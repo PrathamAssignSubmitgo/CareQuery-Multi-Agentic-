{
  "nbformat": 4,
  "nbformat_minor": 0,
  "metadata": {
    "colab": {
      "provenance": []
    },
    "kernelspec": {
      "name": "python3",
      "display_name": "Python 3"
    },
    "language_info": {
      "name": "python"
    }
  },
  "cells": [
    {
      "cell_type": "code",
      "source": [
        "import os\n",
        "import json\n",
        "import chromadb\n",
        "from langchain_text_splitters import RecursiveCharacterTextSplitter\n",
        "from chromadb import Client\n",
        "from chromadb.config import Settings\n",
        "import chromadb.utils.embedding_functions as embedding_functions\n",
        "\n",
        "\n",
        "directory_path = 'xxxx'  # Replace with your actual folder path\n",
        "\n",
        "\n",
        "documents = []\n",
        "\n",
        "\n",
        "for filename in os.listdir(directory_path):\n",
        "    if filename.endswith('.json'):\n",
        "        file_path = os.path.join(directory_path, filename)\n",
        "        with open(file_path, 'r') as file:\n",
        "            json_data = json.load(file)\n",
        "\n",
        "            for key, value in json_data.items():\n",
        "                documents.append({\n",
        "                    'title': key.strip(),\n",
        "                    'content': value.strip()\n",
        "                })\n",
        "#print(documents)\n",
        "\n",
        "text_splitter = RecursiveCharacterTextSplitter(chunk_size=300, chunk_overlap=50)\n",
        "\n",
        "split_documents = []\n",
        "for doc in documents:\n",
        "    chunks = text_splitter.split_text(doc['content'])\n",
        "    for chunk in chunks:\n",
        "        split_documents.append({\n",
        "            'title': doc['title'],\n",
        "            'chunk': chunk\n",
        "        })\n",
        "print(len(split_documents))\n",
        "\n",
        "chroma_client = chromadb.PersistentClient(path='./chroma-db')  # Specify your directory\n",
        "\n",
        "\n",
        "collection_name = \"documents_collection\"\n",
        "ef = embedding_functions.DefaultEmbeddingFunction()\n",
        "collection= chroma_client.get_or_create_collection(name=collection_name,embedding_function=ef)\n",
        "if collection.count() ==0:\n",
        "# if not chroma_client.has_collection(collection_name):\n",
        "#     collection = chroma_client.create_collection(name=collection_name,embedding_function=ef)\n",
        "# else:\n",
        "#     collection = chroma_client.get_collection(name=collection_name,embedding_function=ef)\n",
        "\n",
        "\n",
        "    for i, doc in enumerate(split_documents):\n",
        "        collection.add(\n",
        "            documents=[doc['chunk']],\n",
        "            metadatas=[{'title': doc['title']}],\n",
        "            ids=[f\"{doc['title']}_{i}\"]\n",
        "        )\n",
        "\n",
        "print(\"Documents have been successfully stored in ChromaDB.\")"
      ],
      "metadata": {
        "id": "DlNz4tzu-yeG"
      },
      "execution_count": null,
      "outputs": []
    },
    {
      "cell_type": "code",
      "source": [],
      "metadata": {
        "id": "Qq7fNkgIX3V-"
      },
      "execution_count": null,
      "outputs": []
    },
    {
      "cell_type": "code",
      "source": [
        "from langchain_core.prompts import ChatPromptTemplate\n",
        "from langchain_ollama import ChatOllama\n",
        "import chromadb.utils.embedding_functions as embedding_functions\n",
        "import chromadb\n",
        "\n",
        "\n",
        "\n",
        "collection_name = \"documents_collection\"\n",
        "chroma_client = chromadb.PersistentClient(path='./chroma-db')\n",
        "ef = embedding_functions.DefaultEmbeddingFunction()\n",
        "collection= chroma_client.get_or_create_collection(name=collection_name,embedding_function=ef)\n",
        "\n",
        "template1= \"\"\" Give me an answer for the {question}\n",
        "and extract the most appropriate answer from {docs_list}\n",
        "\"\"\"\n",
        "\n",
        "prompt = ChatPromptTemplate.from_template(template1)\n",
        "\n",
        "model = ChatOllama(model=\"llama3.2\")\n",
        "\n",
        "chain = prompt | model\n",
        "query_result= collection.query(query_texts=\"What is the primary indication for Acetazolamide?\", n_results=5)\n",
        "#print(query_result)\n",
        "docs_list= query_result[\"documents\"][0]\n",
        "dist_list= query_result[\"distances\"][0]\n",
        "\n",
        "print(chain.invoke({\"question\": \"What is the primary indication for Acetazolamide?\",\"docs_list\": docs_list}).content)\n",
        "\n",
        "\n"
      ],
      "metadata": {
        "id": "dVXdOzUU-zwC"
      },
      "execution_count": null,
      "outputs": []
    }
  ]
}